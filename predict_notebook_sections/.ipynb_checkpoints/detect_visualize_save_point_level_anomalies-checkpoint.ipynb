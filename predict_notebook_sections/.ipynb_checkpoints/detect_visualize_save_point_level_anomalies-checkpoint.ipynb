{
 "cells": [
  {
   "cell_type": "code",
   "execution_count": null,
   "id": "469f97df-aa60-459c-b5c0-34fcccbda2da",
   "metadata": {},
   "outputs": [],
   "source": [
    "# -- Detect, visualize, and save the point-level anomalies (predictions)\n",
    "\n",
    "for data_set_idx, test_data_set_code in enumerate(prod_data_set_codes):\n",
    "\n",
    "    # Calculate a point-level reconstruction errors (output: list of MSE's for each point)\n",
    "    # test_point_reconstruction_errors = tf.keras.losses.mean_absolute_percentage_error(test_reconstructions[data_set_idx], test_data_arrays[data_set_idx])\n",
    "    # test_point_reconstruction_errors = tf.keras.losses.kl_divergence(test_reconstructions[data_set_idx], test_data_arrays[data_set_idx])\n",
    "    test_point_reconstruction_errors = tf.keras.losses.mse(test_reconstructions[data_set_idx], test_data_arrays[data_set_idx])\n",
    "    \n",
    "    print(test_reconstructions[data_set_idx])\n",
    "    \n",
    "    # Classify a point as an anomaly if its reconstruction error is greater than the point-level threshold (output: list of predictions per each point)\n",
    "    test_predictions = get_predictions(test_point_reconstruction_errors, threshold_up)\n",
    "    test_predictions = np.array(test_predictions)[0]\n",
    "\n",
    "\n",
    "    # Save the predictions (point level anomalies)\n",
    "    test_predictions_bin = [int(prediction) for prediction in test_predictions]\n",
    "    with open(predictions_file_path.format(data_set_code=test_data_set_code), 'w') as f:\n",
    "        write = csv.writer(f)\n",
    "        for prediction_bin in test_predictions_bin:\n",
    "            write.writerow([prediction_bin])\n",
    "\n",
    "    # Cut the reconstruction error value from the top for point-level visualization purposes\n",
    "    point_level_re_for_visualisation = []\n",
    "    for point_re in test_point_reconstruction_errors:\n",
    "        if point_re > (threshold_up + 1):\n",
    "            point_re = threshold_up + 1\n",
    "\n",
    "        point_level_re_for_visualisation.append(point_re)\n",
    "\n",
    "    # Visualize the point-level reconstruction errors\n",
    "    plt.figure(figsize = (12, 5))\n",
    "    plt.title(\"Data set: {data_set_code}\".format(data_set_code=test_data_set_code))\n",
    "    plt.xlabel(\"Time (Minutes)\")\n",
    "    plt.ylabel(\"Reconstruction Error (Loss function: MSE)\")\n",
    "    plt.axhline(y = point_level_mean, color = 'g', linestyle = '-')\n",
    "    plt.axhline(y = threshold_up, color = 'y', linestyle = '-')\n",
    "    \n",
    "    if test_data_set_code not in normal_data_sets:\n",
    "        plt.axvline(x = int(data_sets_config[test_data_set_code][1]) - 1, color = 'r')\n",
    "        plt.axvline(x = int(data_sets_config[test_data_set_code][2]) - 1, color = 'y')\n",
    "    \n",
    "    plt.plot(np.arange(len(point_level_re_for_visualisation)), point_level_re_for_visualisation)\n",
    "    plt.savefig(\"{test_data_set_code}.png\".format(test_data_set_code=test_data_set_code), bbox_inches='tight')\n",
    "    plt.show()"
   ]
  }
 ],
 "metadata": {
  "kernelspec": {
   "display_name": "Kernet",
   "language": "python",
   "name": "kernet"
  },
  "language_info": {
   "codemirror_mode": {
    "name": "ipython",
    "version": 3
   },
   "file_extension": ".py",
   "mimetype": "text/x-python",
   "name": "python",
   "nbconvert_exporter": "python",
   "pygments_lexer": "ipython3",
   "version": "3.9.7"
  }
 },
 "nbformat": 4,
 "nbformat_minor": 5
}
