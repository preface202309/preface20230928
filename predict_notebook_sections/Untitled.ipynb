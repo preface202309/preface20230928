{
 "cells": [
  {
   "cell_type": "code",
   "execution_count": 2,
   "id": "54c627eb-96ec-4674-a224-3006b1db92dd",
   "metadata": {},
   "outputs": [
    {
     "name": "stdout",
     "output_type": "stream",
     "text": [
      "['author', 'react', 'fileapi', 'gradeservice', 'identity', 'identityapi', 'learner', 'web', 'rui', 'scorm', 'fe', 'scormhandlers', 'ui', 'userapi', 'userhandlers', 'ztool', 'redis-master', 'redis', 'alms-core-author', 'alms-core-react', 'alms-core-fileapi', 'alms-core-gradeservice', 'alms-core-identity', 'alms-core-identityapi', 'alms-core-learner', 'alms-core-web', 'alms-core-rui', 'alms-core-scorm', 'alms-core-fe', 'alms-core-scormhandlers', 'alms-core-ui', 'alms-core-userapi', 'alms-core-userhandlers', 'alms-core-ztool', 'alms-core-redis-master', 'alms-core-redis']\n"
     ]
    }
   ],
   "source": [
    "service_list=\"author,react,fileapi,gradeservice,identity,identityapi,learner,web,rui,scorm,fe,scormhandlers,ui,userapi,userhandlers,ztool,redis-master,redis\"\n",
    "\n",
    "app_service_list = service_list.split(\",\")\n",
    "app_service_list = app_service_list + [\"alms-core-\" + service for service in app_service_list]\n",
    "\n",
    "print(app_service_list)"
   ]
  },
  {
   "cell_type": "code",
   "execution_count": 3,
   "id": "6b6372a2-d3f1-41f3-a59c-2f1614e84450",
   "metadata": {},
   "outputs": [
    {
     "name": "stdout",
     "output_type": "stream",
     "text": [
      "Values from the specified column:\n",
      "[2 5 8]\n"
     ]
    }
   ],
   "source": [
    "import numpy as np\n",
    "\n",
    "# Create a sample NumPy matrix\n",
    "matrix = np.array([[1, 2, 3],\n",
    "                   [4, 5, 6],\n",
    "                   [7, 8, 9]])\n",
    "\n",
    "# Extract values from a specific column (e.g., column index 1)\n",
    "column_values = matrix[:, 1]\n",
    "\n",
    "print(\"Values from the specified column:\")\n",
    "print(column_values)"
   ]
  },
  {
   "cell_type": "code",
   "execution_count": null,
   "id": "44d3cc0b-d673-45ba-8564-77b342932ae0",
   "metadata": {},
   "outputs": [],
   "source": []
  }
 ],
 "metadata": {
  "kernelspec": {
   "display_name": "Kernet",
   "language": "python",
   "name": "kernet"
  },
  "language_info": {
   "codemirror_mode": {
    "name": "ipython",
    "version": 3
   },
   "file_extension": ".py",
   "mimetype": "text/x-python",
   "name": "python",
   "nbconvert_exporter": "python",
   "pygments_lexer": "ipython3",
   "version": "3.9.7"
  }
 },
 "nbformat": 4,
 "nbformat_minor": 5
}
