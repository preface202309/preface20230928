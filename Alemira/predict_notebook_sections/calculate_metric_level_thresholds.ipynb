{
 "cells": [
  {
   "cell_type": "code",
   "execution_count": null,
   "id": "05bac192-5c81-49ee-a131-902bbdc6511d",
   "metadata": {},
   "outputs": [],
   "source": [
    "# -- Calculate the Metric-level Reconstruction Error Thresholds\n",
    "\n",
    "# Get the reconstructions for each KPI of each point of the Training data (output: list of lists of the reconstructed KPIs)\n",
    "reconstructions = autoencoder.predict(train_data)\n",
    "\n",
    "# Build a reconstructions data frame\n",
    "reconstructions_df = pd.DataFrame(reconstructions, columns=kpi_set)\n",
    "\n",
    "# Calculate a Reconstruction Error on Training Data for each metric\n",
    "reconstruction_errors_df = np.abs(reconstructions_df - train_df)\n",
    "\n",
    "# Collect the Metric-level Thresholds\n",
    "\n",
    "thresholds_per_metric_up = []\n",
    "metric_means = []\n",
    "metric_stdevs = []\n",
    "\n",
    "for col_idx, col in enumerate(kpi_set):\n",
    "    metric_mean, metric_stdev, metric_threshold_up, metric_threshold_down = get_threshold(reconstruction_errors_df[col], SIGMA_METRIC_LEVEL, PERCENTILE_METRIC_LEVEL)\n",
    "    thresholds_per_metric_up.append(metric_threshold_up)\n",
    "    metric_means.append(metric_mean)\n",
    "    metric_stdevs.append(metric_stdev)"
   ]
  }
 ],
 "metadata": {
  "kernelspec": {
   "display_name": "Kernet",
   "language": "python",
   "name": "kernet"
  },
  "language_info": {
   "codemirror_mode": {
    "name": "ipython",
    "version": 3
   },
   "file_extension": ".py",
   "mimetype": "text/x-python",
   "name": "python",
   "nbconvert_exporter": "python",
   "pygments_lexer": "ipython3",
   "version": "3.9.7"
  }
 },
 "nbformat": 4,
 "nbformat_minor": 5
}
