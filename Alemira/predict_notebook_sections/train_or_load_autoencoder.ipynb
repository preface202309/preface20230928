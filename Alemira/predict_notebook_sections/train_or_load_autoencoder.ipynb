{
 "cells": [
  {
   "cell_type": "code",
   "execution_count": null,
   "id": "aba69917-7174-4b0f-a83f-fcf61949c7bb",
   "metadata": {},
   "outputs": [],
   "source": [
    "# -- Train or Load the AutoEncoder model\n",
    "\n",
    "if LOAD_MODEL:\n",
    "    # Load autoencoder model\n",
    "    autoencoder = tf.keras.models.load_model(autoencoder_model_file_path.format(model_name=model_name_to_load))\n",
    "else:\n",
    "    # Set the randomness seed\n",
    "    tf.keras.utils.set_random_seed(SEED)\n",
    "\n",
    "    # Build the model\n",
    "    autoencoder = AnomalyDetector(len(kpi_set), NODES_MULTIPLICATION_FACTOR)\n",
    "\n",
    "    # Compile the model\n",
    "    autoencoder.compile(optimizer='adam', loss=tf.keras.losses.MeanAbsolutePercentageError())\n",
    "    # autoencoder.compile(optimizer='adam', loss=tf.keras.losses.KLDivergence())\n",
    "    # autoencoder.compile(optimizer='adam', loss=tf.keras.losses.MeanSquaredError())\n",
    "\n",
    "    # Train the model\n",
    "    history = autoencoder.fit(\n",
    "        train_data,\n",
    "        train_data,\n",
    "        epochs=training_number_epochs,\n",
    "        batch_size=256,\n",
    "        validation_data=(val_data, val_data),\n",
    "        use_multiprocessing=False,\n",
    "        shuffle=False,\n",
    "        callbacks=[\n",
    "            tf.keras.callbacks.EarlyStopping(monitor=\"val_loss\", min_delta=1, patience=5, mode=\"min\")\n",
    "        ]\n",
    "    )\n",
    "\n",
    "    # Create a target folder if does not exist\n",
    "    create_dir(autoencoder_model_dir_path)\n",
    "    # Save the model\n",
    "    autoencoder.save(autoencoder_model_file_path.format(model_name=model_name_to_save))\n",
    "\n",
    "    # Plot the training history\n",
    "    plt.plot(history.history[\"loss\"][1:], label=\"Training Loss\")\n",
    "    plt.plot(history.history[\"val_loss\"][1:], label=\"Validation Loss\")\n",
    "    plt.title(\"Training progress\")\n",
    "    plt.legend()"
   ]
  }
 ],
 "metadata": {
  "kernelspec": {
   "display_name": "Kernet",
   "language": "python",
   "name": "kernet"
  },
  "language_info": {
   "codemirror_mode": {
    "name": "ipython",
    "version": 3
   },
   "file_extension": ".py",
   "mimetype": "text/x-python",
   "name": "python",
   "nbconvert_exporter": "python",
   "pygments_lexer": "ipython3",
   "version": "3.9.7"
  }
 },
 "nbformat": 4,
 "nbformat_minor": 5
}
