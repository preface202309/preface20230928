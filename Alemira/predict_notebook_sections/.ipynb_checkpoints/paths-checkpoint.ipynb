{
 "cells": [
  {
   "cell_type": "code",
   "execution_count": null,
   "id": "b345f124-d973-4e0a-ac6d-29c3990df212",
   "metadata": {},
   "outputs": [],
   "source": [
    "# -- Paths\n",
    "\n",
    "# Path to the Raw datasets\n",
    "raw_data_set_file_path = raw_data_set_dir_path + \"{data_set_code}.csv\"\n",
    "\n",
    "# Path to the Consolidated datasets\n",
    "consolidated_data_set_file_path = consolidated_data_set_dir_path + \"{data_set_code}.csv\"\n",
    "\n",
    "# Path to the Tuned datasets\n",
    "tuned_data_set_file_path = tuned_data_set_dir_path + \"{data_set_code}.csv\"\n",
    "\n",
    "# Path to the Normalized datasets\n",
    "normalized_data_set_file_path = normalized_data_set_dir_path + \"{data_set_code}.csv\"\n",
    "\n",
    "# Path to save the visualizations of the normalized data sets\n",
    "vizualization_normalized_file_path = vizualization_normalized_dir_path + \"{data_set_code}.html\""
   ]
  },
  {
   "cell_type": "code",
   "execution_count": 10,
   "id": "61f7d345-5d17-4132-a782-0f8eebe4e345",
   "metadata": {},
   "outputs": [
    {
     "name": "stdout",
     "output_type": "stream",
     "text": [
      "output/output-a/rankings/{data_set_code}.csv\n",
      "output/output-a/rankings/normal_1_14.csv\n"
     ]
    }
   ],
   "source": [
    "version = \"a\"\n",
    "data_set_code = \"normal_1_14\"\n",
    "\n",
    "rankings_file_path = \"output/output-{version}/rankings/{data_set_code}.csv\".format(version=version, data_set_code=\"{data_set_code}\")\n",
    "print(rankings_file_path)\n",
    "\n",
    "rankings_file_path = rankings_file_path.format(data_set_code=data_set_code)\n",
    "print(rankings_file_path)"
   ]
  },
  {
   "cell_type": "code",
   "execution_count": null,
   "id": "cf064806-89ea-4f9a-95fe-9c02ae2932ee",
   "metadata": {},
   "outputs": [],
   "source": []
  }
 ],
 "metadata": {
  "kernelspec": {
   "display_name": "Kernet",
   "language": "python",
   "name": "kernet"
  },
  "language_info": {
   "codemirror_mode": {
    "name": "ipython",
    "version": 3
   },
   "file_extension": ".py",
   "mimetype": "text/x-python",
   "name": "python",
   "nbconvert_exporter": "python",
   "pygments_lexer": "ipython3",
   "version": "3.9.7"
  }
 },
 "nbformat": 4,
 "nbformat_minor": 5
}
