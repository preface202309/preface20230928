{
 "cells": [
  {
   "cell_type": "code",
   "execution_count": null,
   "id": "ed931266-f5c5-4bc6-9a19-3c87c9919a27",
   "metadata": {},
   "outputs": [],
   "source": [
    "# -- Autoencoder model setup\n",
    "\n",
    "class AnomalyDetector_1(Model):\n",
    "    def __init__(self, number_of_columns_, factor_):\n",
    "        super(AnomalyDetector, self).__init__()\n",
    "\n",
    "        self.encoder = tf.keras.Sequential([\n",
    "            layers.Dense(int(number_of_columns_ * factor_), activation=\"tanh\", kernel_regularizer=regularizers.l1(0.002)),\n",
    "            layers.Dense(int(number_of_columns_ * factor_ * factor_), activation=\"tanh\", kernel_regularizer=regularizers.l1(0.002)),\n",
    "            layers.Dense(int(number_of_columns_ * factor_ * factor_ * factor_), activation=\"tanh\"),\n",
    "            # layers.Dense(int(number_of_columns_ * factor_ * factor_ * factor_ * factor_), activation=\"tanh\")\n",
    "        ])\n",
    "\n",
    "        self.decoder = tf.keras.Sequential([\n",
    "            # layers.Dense(int(number_of_columns_ * factor_ * factor_ * factor_), activation=\"tanh\"),\n",
    "            layers.Dense(int(number_of_columns_ * factor_ * factor_), activation=\"tanh\"),\n",
    "            layers.Dense(int(number_of_columns_ * factor_), activation=\"tanh\"),\n",
    "            layers.Dense(int(number_of_columns_), activation=\"tanh\")\n",
    "        ])\n",
    "\n",
    "    def call(self, x):\n",
    "        encoded = self.encoder(x)\n",
    "        decoded = self.decoder(encoded)\n",
    "        return decoded\n",
    "    \n",
    "    \n",
    "class AnomalyDetector(Model):\n",
    "    def __init__(self, number_of_columns, factor):\n",
    "        super(AnomalyDetector, self).__init__()\n",
    "\n",
    "        self.encoder = tf.keras.Sequential([\n",
    "            layers.Dense(int(number_of_columns * factor), activation=\"tanh\", kernel_regularizer=regularizers.l1(0.005)),\n",
    "            layers.Dense(int(number_of_columns * factor * factor), activation=\"tanh\", kernel_regularizer=regularizers.l1(0.005)),\n",
    "            layers.Dense(int(number_of_columns * factor * factor * factor), activation=\"tanh\"),\n",
    "            layers.Dense(int(number_of_columns * factor * factor * factor * factor), activation=\"tanh\"),\n",
    "        ])\n",
    "\n",
    "        self.decoder = tf.keras.Sequential([\n",
    "            layers.Dense(int(number_of_columns * factor * factor * factor), activation=\"tanh\"),\n",
    "            layers.Dense(int(number_of_columns * factor * factor), activation=\"tanh\"),\n",
    "            layers.Dense(int(number_of_columns * factor), activation=\"tanh\"),\n",
    "            layers.Dense(int(number_of_columns), activation=\"sigmoid\")\n",
    "        ])\n",
    "\n",
    "    def call(self, x):\n",
    "        encoded = self.encoder(x)\n",
    "        decoded = self.decoder(encoded)\n",
    "        return decoded"
   ]
  }
 ],
 "metadata": {
  "kernelspec": {
   "display_name": "Kernet",
   "language": "python",
   "name": "kernet"
  },
  "language_info": {
   "codemirror_mode": {
    "name": "ipython",
    "version": 3
   },
   "file_extension": ".py",
   "mimetype": "text/x-python",
   "name": "python",
   "nbconvert_exporter": "python",
   "pygments_lexer": "ipython3",
   "version": "3.9.7"
  }
 },
 "nbformat": 4,
 "nbformat_minor": 5
}
