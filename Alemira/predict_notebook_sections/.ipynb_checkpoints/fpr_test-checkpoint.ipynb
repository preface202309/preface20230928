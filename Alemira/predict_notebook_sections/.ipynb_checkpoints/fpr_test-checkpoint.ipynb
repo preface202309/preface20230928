{
 "cells": [
  {
   "cell_type": "code",
   "execution_count": null,
   "id": "d8697519-1989-404e-b2bc-ad2fd32d495f",
   "metadata": {},
   "outputs": [],
   "source": [
    "# -- FPR test\n",
    "\n",
    "if fpr_test_data_set_code != \"None\":\n",
    "\n",
    "    # Load predictions\n",
    "    with open(predictions_file_path.format(data_set_code=fpr_test_data_set_code), newline='') as csvfile:\n",
    "        csv_reader = csv.reader(csvfile)\n",
    "        predictions = [int(row[0]) for row in csv_reader]\n",
    "\n",
    "    FPR = round(sum(predictions) * 100 / len(predictions))\n",
    "\n",
    "    print(f\"FPR: {FPR}%\")"
   ]
  }
 ],
 "metadata": {
  "kernelspec": {
   "display_name": "Kernet",
   "language": "python",
   "name": "kernet"
  },
  "language_info": {
   "codemirror_mode": {
    "name": "ipython",
    "version": 3
   },
   "file_extension": ".py",
   "mimetype": "text/x-python",
   "name": "python",
   "nbconvert_exporter": "python",
   "pygments_lexer": "ipython3",
   "version": "3.9.7"
  }
 },
 "nbformat": 4,
 "nbformat_minor": 5
}
