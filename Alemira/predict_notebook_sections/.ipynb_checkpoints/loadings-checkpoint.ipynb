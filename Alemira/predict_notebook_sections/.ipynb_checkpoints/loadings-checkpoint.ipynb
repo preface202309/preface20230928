{
 "cells": [
  {
   "cell_type": "code",
   "execution_count": null,
   "id": "70da890e-857c-4b2d-970b-55ed760628bc",
   "metadata": {},
   "outputs": [],
   "source": [
    "# -- Loadings\n",
    "\n",
    "# Load the training DF\n",
    "train_df_all = pd.read_csv(normalized_data_set_file_path.format(data_set_code=train_data_set_code))\n",
    "print(\"Training data set loaded (\", normalized_data_set_file_path.format(data_set_code=train_data_set_code) ,\"):\", train_df_all.shape)\n",
    "\n",
    "# Load the prod DFs\n",
    "print(\"Loading the production data sets ..\")\n",
    "prod_dfs = {}\n",
    "for data_set_code in prod_data_set_codes:\n",
    "    prod_dfs[data_set_code] = pd.read_csv(normalized_data_set_file_path.format(data_set_code=data_set_code))\n",
    "    print(normalized_data_set_file_path.format(data_set_code=data_set_code), prod_dfs[data_set_code].shape)\n",
    "    \n",
    "# Define the KPI set (local, tuned, NOT GLOBAL, which is the one, used in GCG)\n",
    "kpi_set = list(train_df_all.columns)\n",
    "\n",
    "# Load data sets config\n",
    "data_sets_config = load_data_sets_config(data_sets_config_file_path)"
   ]
  }
 ],
 "metadata": {
  "kernelspec": {
   "display_name": "Kernet",
   "language": "python",
   "name": "kernet"
  },
  "language_info": {
   "codemirror_mode": {
    "name": "ipython",
    "version": 3
   },
   "file_extension": ".py",
   "mimetype": "text/x-python",
   "name": "python",
   "nbconvert_exporter": "python",
   "pygments_lexer": "ipython3",
   "version": "3.9.7"
  }
 },
 "nbformat": 4,
 "nbformat_minor": 5
}
