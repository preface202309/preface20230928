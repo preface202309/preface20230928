{
 "cells": [
  {
   "cell_type": "code",
   "execution_count": 1,
   "metadata": {},
   "outputs": [],
   "source": [
    "import pandas as pd\n",
    "import os\n",
    "import yaml\n",
    "import matplotlib.pyplot as plt\n",
    "import numpy as np\n",
    "from datetime import datetime\n",
    "from matplotlib.ticker import MultipleLocator\n",
    "from sklearn.preprocessing import MinMaxScaler\n",
    "import math"
   ]
  },
  {
   "cell_type": "markdown",
   "metadata": {},
   "source": [
    "Step 0: Compute the mean std, and var for each KPI\n",
    "Step 1: Normalize the dataset (mean var)\n",
    "Step 2: Compute threshold 3 * std + mean/median using normalized value sum square sqrt(kpi1^2 + kpi2^2) for each timestamp\n",
    "Step 3: Production normalize using normal data and compute sqrt(kpi1^2 + kpi2^2) for each timestamp and compare with threshold\n",
    "Step 4: If above threshold: prediction yes, then localization. Get KPIs higher than threshold for KPI (anomalous KPIs) compared with 3 (mean is 0) (try)\n",
    "Step 5: Anomalous KPIs Grouped by services to localize\n"
   ]
  },
  {
   "cell_type": "markdown",
   "metadata": {},
   "source": [
    "## Load Dataset"
   ]
  },
  {
   "cell_type": "code",
   "execution_count": 2,
   "metadata": {},
   "outputs": [],
   "source": [
    "PATH_DATASET_FOLDER = \"./input/datasets/Consolidated\"\n",
    "PATH_NORMAL_DATASET = os.path.join(PATH_DATASET_FOLDER, \"normal_1_14.csv\")\n",
    "PATH_FAILURE_DATASET_FOLDER = os.path.join(PATH_DATASET_FOLDER, \"failure-experiments\")\n",
    "PATH_FAILURE_LOGS = \"./input/other/failure-injection-log.csv\"\n",
    "# PATH_DATASET_CONFIG = \"data_sets_config.csv\""
   ]
  },
  {
   "cell_type": "code",
   "execution_count": 3,
   "metadata": {},
   "outputs": [],
   "source": [
    "with open(\n",
    "    \"./input/other/services.yaml\"\n",
    ") as fp:\n",
    "    SERVICES = yaml.safe_load(fp)[\"services\"]"
   ]
  },
  {
   "cell_type": "code",
   "execution_count": 4,
   "metadata": {},
   "outputs": [
    {
     "name": "stdout",
     "output_type": "stream",
     "text": [
      "Shape of the preprocessed normal dataset: (20074, 4702)\n"
     ]
    }
   ],
   "source": [
    "df_normal = pd.read_csv(PATH_NORMAL_DATASET)\n",
    "if \"timestamp\" in df_normal:\n",
    "    df_normal.set_index(\"timestamp\", inplace=True)\n",
    "print(f\"Shape of the preprocessed normal dataset: {df_normal.shape}\")"
   ]
  },
  {
   "cell_type": "code",
   "execution_count": 5,
   "metadata": {},
   "outputs": [],
   "source": [
    "df_failure_logs = pd.read_csv(PATH_FAILURE_LOGS)"
   ]
  },
  {
   "cell_type": "code",
   "execution_count": 225,
   "metadata": {},
   "outputs": [],
   "source": [
    "# df_dataset_config = pd.read_csv(PATH_DATASET_CONFIG)"
   ]
  },
  {
   "cell_type": "code",
   "execution_count": 7,
   "metadata": {},
   "outputs": [],
   "source": [
    "# dict of failure name -> DataFrame\n",
    "failure_experiment_dict = {\n",
    "    experiment: pd.read_csv(\n",
    "        os.path.join(PATH_FAILURE_DATASET_FOLDER, f\"{experiment}.csv\")\n",
    "    ).set_index(\"timestamp\")\n",
    "    for experiment in df_failure_logs[\"folder_name\"]\n",
    "}"
   ]
  },
  {
   "cell_type": "code",
   "execution_count": 8,
   "metadata": {},
   "outputs": [
    {
     "name": "stdout",
     "output_type": "stream",
     "text": [
      "Shape of failure datasets:\n",
      "linear-cpu-stress-userapi-051516: (181, 4389)\n",
      "linear-memory-stress-userapi-051218: (181, 4446)\n",
      "linear-network-delay-userapi-051816: (180, 4355)\n",
      "linear-cpu-stress-redis-091514: (151, 5808)\n",
      "linear-memory-stress-redis-091522: (151, 6015)\n",
      "linear-network-delay-redis-092016: (151, 5844)\n"
     ]
    }
   ],
   "source": [
    "print(f\"Shape of failure datasets:\")\n",
    "for failure_name, df_failure in failure_experiment_dict.items():\n",
    "    print(failure_name + \":\", df_failure.shape)"
   ]
  },
  {
   "cell_type": "markdown",
   "metadata": {},
   "source": [
    "## Normalize"
   ]
  },
  {
   "cell_type": "code",
   "execution_count": 9,
   "metadata": {},
   "outputs": [],
   "source": [
    "normal_values = df_normal.fillna(0).values.astype(float)\n",
    "scaler = MinMaxScaler()\n",
    "scaler.fit(normal_values)\n",
    "normal_values = scaler.transform(normal_values)\n",
    "df_normalized_normal = pd.DataFrame(normal_values, columns=df_normal.columns)"
   ]
  },
  {
   "cell_type": "code",
   "execution_count": 10,
   "metadata": {},
   "outputs": [],
   "source": [
    "for failure_name, df_failure in failure_experiment_dict.items():\n",
    "    df_failure, _ = df_failure.align(df_normalized_normal, join=\"right\", axis=1)\n",
    "    failure_values = df_failure.fillna(0).values.astype(float)\n",
    "    failure_experiment_dict[failure_name] = pd.DataFrame(\n",
    "        scaler.transform(failure_values), columns=df_failure.columns\n",
    "    )"
   ]
  },
  {
   "cell_type": "markdown",
   "metadata": {},
   "source": [
    "## Predict Failures"
   ]
  },
  {
   "cell_type": "code",
   "execution_count": 11,
   "metadata": {},
   "outputs": [],
   "source": [
    "def compute_threshold(kpi: pd.Series):\n",
    "    # Each KPI threshold is computed by the mean plus 3 times standard deviation\n",
    "    return kpi.mean() + 3 * kpi.std()\n",
    "\n",
    "\n",
    "def compute_timestamp_state(s: pd.Series):\n",
    "    return s.mean()"
   ]
  },
  {
   "cell_type": "code",
   "execution_count": 12,
   "metadata": {},
   "outputs": [],
   "source": [
    "df_kpi_threshold = df_normalized_normal.apply(compute_threshold)"
   ]
  },
  {
   "cell_type": "code",
   "execution_count": 13,
   "metadata": {},
   "outputs": [],
   "source": [
    "df_normal_states = df_normalized_normal.apply(compute_timestamp_state, axis=1)\n",
    "anomalous_state_threshold = compute_threshold(df_normal_states)"
   ]
  },
  {
   "cell_type": "code",
   "execution_count": 15,
   "metadata": {},
   "outputs": [],
   "source": [
    "def compute_service_deviation(s):\n",
    "    s[s <= 0] = np.nan\n",
    "    return s.mean()\n",
    "\n",
    "\n",
    "def compute_localization(df_service_rank, attacked_service):\n",
    "    def localize_failures(s):\n",
    "        if s[\"rank-1\"] == attacked_service:\n",
    "            # strong localization\n",
    "            return 1\n",
    "        elif s[\"rank-2\"] == attacked_service or s[\"rank-3\"] == attacked_service:\n",
    "            # weak localization\n",
    "            return 2\n",
    "        else:\n",
    "            # no localization\n",
    "            return 0\n",
    "\n",
    "    return df_service_rank.apply(localize_failures, axis=1).to_list()"
   ]
  },
  {
   "cell_type": "code",
   "execution_count": 16,
   "metadata": {},
   "outputs": [],
   "source": [
    "results = {}\n",
    "for failure_name, df_failure in failure_experiment_dict.items():\n",
    "    # prediction\n",
    "    production_states = df_failure.apply(compute_timestamp_state, axis=1)\n",
    "    predictions = list(production_states > anomalous_state_threshold)\n",
    "\n",
    "    # dataset_config = df_dataset_config[df_dataset_config[\"code\"] == failure_name].iloc[\n",
    "    #     0\n",
    "    # ]\n",
    "    attacked_service = df_failure_logs[\n",
    "        df_failure_logs[\"folder_name\"] == failure_name\n",
    "    ].iloc[0][\"SERVICE\"]\n",
    "    # related_services = [\n",
    "    #     service + \"-service\" for service in dataset_config[\"Related Service\"].split(\":\")\n",
    "    # ]\n",
    "\n",
    "    # localization\n",
    "    service_deviation_list = []\n",
    "    df_failure = df_failure.sub(df_kpi_threshold, axis=\"columns\")\n",
    "    for service in SERVICES:\n",
    "        service_column_mask = df_failure.columns[\n",
    "            df_failure.columns.str.match(f\".*(?:{service}).*\")\n",
    "        ]\n",
    "        df_service_kpis = df_failure.loc[:, service_column_mask]\n",
    "\n",
    "        service_deviation = df_service_kpis.apply(compute_service_deviation, axis=1)\n",
    "        service_deviation.name = service\n",
    "        service_deviation_list.append(service_deviation)\n",
    "    df_service_deviations = pd.concat(service_deviation_list, axis=1)\n",
    "    df_service_rank = pd.DataFrame(\n",
    "        df_service_deviations.apply(\n",
    "            lambda row: row.sort_values(ascending=False).index.to_list(), axis=1\n",
    "        ).to_list(),\n",
    "        columns=range(1, len(SERVICES) + 1),\n",
    "    ).add_prefix(\"rank-\")\n",
    "    localizations = compute_localization(df_service_rank, attacked_service)\n",
    "    results[failure_name] = {\"predictions\": predictions, \"localizations\": localizations}"
   ]
  },
  {
   "cell_type": "markdown",
   "metadata": {},
   "source": [
    "## Predict and Localize Failures\n",
    "\n",
    "The threshold of each KPI is computed by the mean plus 3 times standard deviation of the normal KPI\n",
    "### Prediction\n",
    "The deviation of each KPI is computed by subtracting the corresponding threshold from the value.\n",
    "\n",
    "The deviation of a system state (identified by each timestamp) is the mean of the deviation of all KPIs.\n",
    "- Predict `failure` if the deviation of the system state is above 0\n",
    "- Predict `normal` otherwise\n",
    "\n",
    "### Localization\n",
    "\n",
    "The deviation of a service is the mean of the deviation of all KPIs from that service.\n"
   ]
  },
  {
   "cell_type": "markdown",
   "metadata": {},
   "source": [
    "## Visualization"
   ]
  },
  {
   "cell_type": "code",
   "execution_count": 17,
   "metadata": {},
   "outputs": [],
   "source": [
    "df_failure_logs[\"Disruption\"].fillna(100, inplace=True)"
   ]
  },
  {
   "cell_type": "code",
   "execution_count": 34,
   "metadata": {},
   "outputs": [],
   "source": [
    "baseline_statistcis = []"
   ]
  },
  {
   "cell_type": "code",
   "execution_count": 35,
   "metadata": {},
   "outputs": [
    {
     "name": "stdout",
     "output_type": "stream",
     "text": [
      "CPU Stress userapi false alarm rate: 0\n",
      "CPU Stress userapi miss alarm rate: 25\n",
      "CPU Stress userapi false localization rate: 0\n",
      "CPU Stress userapi overall true localization rate: 75\n",
      "0\\% & 25\\% & 0\\% & 75\\%\n",
      "CPU Stress redis false alarm rate: 3\n",
      "CPU Stress redis miss alarm rate: 1\n",
      "CPU Stress redis false localization rate: 0\n",
      "CPU Stress redis overall true localization rate: 99\n",
      "3\\% & 1\\% & 0\\% & 99\\%\n",
      "Memory Stress userapi false alarm rate: 0\n",
      "Memory Stress userapi miss alarm rate: 100\n",
      "Memory Stress userapi false localization rate: 0\n",
      "Memory Stress userapi overall true localization rate: 0\n",
      "0\\% & 100\\% & 0\\% & 0\\%\n",
      "Memory Stress redis false alarm rate: 0\n",
      "Memory Stress redis miss alarm rate: 23\n",
      "Memory Stress redis false localization rate: 0\n",
      "Memory Stress redis overall true localization rate: 77\n",
      "0\\% & 23\\% & 0\\% & 77\\%\n",
      "Network Delay userapi false alarm rate: 0\n",
      "Network Delay userapi miss alarm rate: 100\n",
      "Network Delay userapi false localization rate: 0\n",
      "Network Delay userapi overall true localization rate: 0\n",
      "0\\% & 100\\% & 0\\% & 0\\%\n",
      "Network Delay redis false alarm rate: 0\n",
      "Network Delay redis miss alarm rate: 94\n",
      "Network Delay redis false localization rate: 3\n",
      "Network Delay redis overall true localization rate: 3\n",
      "0\\% & 94\\% & 3\\% & 3\\%\n"
     ]
    },
    {
     "data": {
      "image/png": "[encoded data removed]",
      "text/plain": [
       "<Figure size 1500x100 with 1 Axes>"
      ]
     },
     "metadata": {},
     "output_type": "display_data"
    },
    {
     "data": {
      "image/png": "[encoded data removed]",
      "text/plain": [
       "<Figure size 1500x100 with 1 Axes>"
      ]
     },
     "metadata": {},
     "output_type": "display_data"
    },
    {
     "data": {
      "image/png": "[encoded data removed]",
      "text/plain": [
       "<Figure size 1500x100 with 1 Axes>"
      ]
     },
     "metadata": {},
     "output_type": "display_data"
    }
   ],
   "source": [
    "for failure_type in [\"CPU Stress\", \"Memory Stress\", \"Network Delay\"]:\n",
    "    fig, ax = plt.subplots(figsize=(15, 1))\n",
    "    ax.set_title(failure_type)\n",
    "\n",
    "    yticks = []\n",
    "    ax.set_xlim(0, 145)\n",
    "    ax.xaxis.set_major_locator(MultipleLocator(10))\n",
    "    ax.xaxis.set_minor_locator(MultipleLocator(1))\n",
    "\n",
    "    ax.grid(which=\"both\", alpha=0.2)\n",
    "\n",
    "    line_shift = 0\n",
    "    for _, failure_log in df_failure_logs[\n",
    "        df_failure_logs[\"FAILURE_TYPE\"] == failure_type\n",
    "    ].iterrows():\n",
    "        failure_name = failure_log[\"folder_name\"]\n",
    "        attacked_service = failure_log[\"SERVICE\"]\n",
    "        yticks.append(attacked_service)\n",
    "\n",
    "        # statistics\n",
    "        num_false_alarms = 0\n",
    "        num_miss_alarms = 0\n",
    "        false_localizations = 0\n",
    "        true_localizations = 0\n",
    "\n",
    "        df_failure = failure_experiment_dict[failure_name]\n",
    "\n",
    "        predictions = results[failure_name][\"predictions\"]\n",
    "        localizations = results[failure_name][\"localizations\"]\n",
    "\n",
    "        failure_log = df_failure_logs[\n",
    "            df_failure_logs[\"folder_name\"] == failure_name\n",
    "        ].iloc[0]\n",
    "\n",
    "        failure_begin_timestamp = datetime.fromisoformat(\n",
    "            failure_log[\"failure_begin_timestamp\"]\n",
    "        ).timestamp()\n",
    "        experiment_begin_timestamp = datetime.fromisoformat(\n",
    "            failure_log[\"experiment_begin_timestamp\"]\n",
    "        ).timestamp()\n",
    "        failure_injection_index = int(\n",
    "            (failure_begin_timestamp - experiment_begin_timestamp) / 60\n",
    "        )\n",
    "        disruption_index = int(failure_log[\"Disruption\"])\n",
    "\n",
    "        # failure injection point\n",
    "        ax.vlines(30, line_shift + 1, line_shift, color=\"red\")\n",
    "\n",
    "        # consider only 30 minutes before injection\n",
    "        if failure_injection_index > 30:\n",
    "            start_index = failure_injection_index - 30\n",
    "        else:\n",
    "            start_index = 0\n",
    "        end_index = disruption_index\n",
    "        predictions = predictions[start_index:end_index]\n",
    "        localizations = localizations[start_index:end_index]\n",
    "\n",
    "        for time_point in range(len(predictions)):\n",
    "            prediction = predictions[time_point]\n",
    "            localization = localizations[time_point]\n",
    "\n",
    "            if prediction:\n",
    "                if time_point < 30:\n",
    "                    num_false_alarms += 1\n",
    "                    ax.broken_barh(\n",
    "                        [(time_point, 1)],\n",
    "                        (line_shift, 1.0),\n",
    "                        facecolors=(\"tab:pink\"),\n",
    "                        alpha=0.2,\n",
    "                    )\n",
    "                else:\n",
    "                    if localization == 1:\n",
    "                        ax.broken_barh(\n",
    "                            [(time_point, 1)],\n",
    "                            (line_shift, 1.0),\n",
    "                            facecolors=(\"tab:blue\"),\n",
    "                            alpha=1,\n",
    "                        )\n",
    "                        true_localizations += 1\n",
    "\n",
    "                    elif localization == 2:\n",
    "                        ax.broken_barh(\n",
    "                            [(time_point, 1)],\n",
    "                            (line_shift, 1.0),\n",
    "                            facecolors=(\"tab:blue\"),\n",
    "                            alpha=0.3,\n",
    "                        )\n",
    "                        true_localizations += 1\n",
    "\n",
    "                    elif localization == 0:\n",
    "                        ax.broken_barh(\n",
    "                            [(time_point, 1)],\n",
    "                            (line_shift, 1.0),\n",
    "                            facecolors=(\"tab:pink\"),\n",
    "                            alpha=0.2,\n",
    "                        )\n",
    "                        false_localizations += 1\n",
    "            else:\n",
    "                ax.broken_barh(\n",
    "                    [(time_point, 1)],\n",
    "                    (line_shift, 1.0),\n",
    "                    facecolors=(\"yellow\"),\n",
    "                    alpha=0.2,\n",
    "                )\n",
    "                if time_point >= 30:\n",
    "                    num_miss_alarms += 1\n",
    "\n",
    "        # compute statistics\n",
    "        false_alarm_rate = int(100 * num_false_alarms / 30 + 0.5)\n",
    "        print(f\"{failure_type} {attacked_service} false alarm rate: {false_alarm_rate}\")\n",
    "\n",
    "        miss_alarm_rate = int(100 * num_miss_alarms / (len(predictions) - 30) + 0.5)\n",
    "        print(f\"{failure_type} {attacked_service} miss alarm rate: {miss_alarm_rate}\")\n",
    "\n",
    "        false_localization_rate = int(\n",
    "            100 * false_localizations / (len(predictions) - 30) + 0.5\n",
    "        )\n",
    "        print(\n",
    "            f\"{failure_type} {attacked_service} false localization rate: {false_localization_rate}\"\n",
    "        )\n",
    "\n",
    "        overall_localization_rate = int(\n",
    "            100 * true_localizations / (len(predictions) - 30) + 0.5\n",
    "        )\n",
    "        print(\n",
    "            f\"{failure_type} {attacked_service} overall true localization rate: {overall_localization_rate}\"\n",
    "        )\n",
    "        print(\n",
    "            f\"{false_alarm_rate}\\% & {miss_alarm_rate}\\% & {false_localization_rate}\\% & {overall_localization_rate}\\%\"\n",
    "        )\n",
    "        baseline_statistcis.append(\n",
    "            (\n",
    "                failure_type.lower(),\n",
    "                attacked_service,\n",
    "                false_alarm_rate,\n",
    "                miss_alarm_rate,\n",
    "                false_localization_rate,\n",
    "                overall_localization_rate,\n",
    "            )\n",
    "        )\n",
    "\n",
    "        ax.broken_barh(\n",
    "            [(time_point + 1, 1)], (line_shift, 1.0), facecolors=(\"red\"), alpha=1\n",
    "        )\n",
    "        line_shift += 2\n",
    "\n",
    "    ax.set_yticks(\n",
    "        [i * 2 + 0.5 for i in range(2)],\n",
    "        yticks,\n",
    "    )\n",
    "\n",
    "    plt.savefig(\n",
    "        f\"Alemira_{failure_type}_baseline.pdf\", format=\"pdf\", bbox_inches=\"tight\"\n",
    "    )"
   ]
  },
  {
   "cell_type": "code",
   "execution_count": 36,
   "metadata": {},
   "outputs": [],
   "source": [
    "df_baseline_statistcis = pd.DataFrame(\n",
    "    baseline_statistcis,\n",
    "    columns=[\n",
    "        \"failure_type\",\n",
    "        \"attacked_service\",\n",
    "        \"false_alarm_rate\",\n",
    "        \"miss_alarm_rate\",\n",
    "        \"false_localization_rate\",\n",
    "        \"overall_localization_rate\",\n",
    "    ],\n",
    ")\n",
    "df_baseline_statistcis.to_csv(\"Alemira_baseline_statistcis.csv\", index=False)"
   ]
  }
 ],
 "metadata": {
  "kernelspec": {
   "display_name": "alemira-analysis",
   "language": "python",
   "name": "python3"
  },
  "language_info": {
   "codemirror_mode": {
    "name": "ipython",
    "version": 3
   },
   "file_extension": ".py",
   "mimetype": "text/x-python",
   "name": "python",
   "nbconvert_exporter": "python",
   "pygments_lexer": "ipython3",
   "version": "3.10.13"
  }
 },
 "nbformat": 4,
 "nbformat_minor": 2
}
