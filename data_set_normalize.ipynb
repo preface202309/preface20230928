{
 "cells": [
  {
   "cell_type": "code",
   "execution_count": 12,
   "id": "845311e1-a6fb-4138-9d50-c3e72f0f6c56",
   "metadata": {},
   "outputs": [],
   "source": [
    "import os\n",
    "import numpy as np\n",
    "import pandas as pd\n",
    "import csv\n",
    "import json\n",
    "import requests\n",
    "import matplotlib.pyplot as plt\n",
    "import plotly.express as px\n",
    "from warnings import simplefilter\n",
    "import configparser\n",
    "from scipy import stats\n",
    "\n",
    "from sklearn.model_selection import train_test_split\n",
    "from sklearn.preprocessing import MinMaxScaler\n",
    "from sklearn.preprocessing import StandardScaler"
   ]
  },
  {
   "cell_type": "code",
   "execution_count": 13,
   "id": "a911f74c-ec6d-4983-b4e1-b50db46c7199",
   "metadata": {},
   "outputs": [],
   "source": [
    "# -- Functions\n",
    "\n",
    "%run functions.ipynb"
   ]
  },
  {
   "cell_type": "code",
   "execution_count": 14,
   "id": "10558b54-3514-462c-87dd-a9f54fc537f1",
   "metadata": {},
   "outputs": [],
   "source": [
    "# - Notification filter\n",
    "\n",
    "simplefilter(action=\"ignore\", category=pd.errors.PerformanceWarning)"
   ]
  },
  {
   "cell_type": "code",
   "execution_count": 15,
   "id": "919bf5b7-9cae-4c7f-bc11-a7815ae1ab0a",
   "metadata": {},
   "outputs": [],
   "source": [
    "# -- Init Configuration Parameters\n",
    "\n",
    "%run predict_notebook_sections/configuration.ipynb"
   ]
  },
  {
   "cell_type": "code",
   "execution_count": 16,
   "id": "9a3bb0ca-ab19-4792-a182-bed25c2fe688",
   "metadata": {},
   "outputs": [],
   "source": [
    "# -- Load data sets config\n",
    "\n",
    "data_sets_config = load_data_sets_config(data_sets_config_file_path)"
   ]
  },
  {
   "cell_type": "code",
   "execution_count": 17,
   "id": "9438f2cb-601c-49a8-bef2-ffc4f088166b",
   "metadata": {},
   "outputs": [
    {
     "name": "stdout",
     "output_type": "stream",
     "text": [
      "normal_1_14 (14514, 3948)\n"
     ]
    }
   ],
   "source": [
    "# -- Load Training data\n",
    "\n",
    "train_data_df = pd.read_csv(tuned_data_set_file_path.format(data_set_code=train_data_set_code))\n",
    "print(train_data_set_code, train_data_df.shape)"
   ]
  },
  {
   "cell_type": "code",
   "execution_count": 18,
   "id": "f90a03a6-d7bb-497c-9811-10c6286559b5",
   "metadata": {},
   "outputs": [
    {
     "name": "stdout",
     "output_type": "stream",
     "text": [
      "linear-cpu-stress-userapi-051516 (181, 3948)\n",
      "linear-cpu-stress-redis-091514 (151, 3948)\n",
      "linear-memory-stress-userapi-051218 (181, 3948)\n",
      "linear-memory-stress-redis-091522 (151, 3948)\n",
      "linear-network-delay-userapi-051816 (180, 3948)\n",
      "linear-network-delay-redis-092016 (151, 3948)\n"
     ]
    }
   ],
   "source": [
    "# -- Load data sets to preprocess\n",
    "\n",
    "data_set_dfs = {}\n",
    "for data_set_code in data_sets_to_preprocess:\n",
    "    data_set_dfs[data_set_code] = pd.read_csv(tuned_data_set_file_path.format(data_set_code=data_set_code))\n",
    "    print(data_set_code, data_set_dfs[data_set_code].shape)"
   ]
  },
  {
   "cell_type": "code",
   "execution_count": 19,
   "id": "6deddbeb-0911-412e-b37f-d72dc95ea99d",
   "metadata": {},
   "outputs": [
    {
     "data": {
      "text/html": [
       "<style>#sk-container-id-2 {color: black;}#sk-container-id-2 pre{padding: 0;}#sk-container-id-2 div.sk-toggleable {background-color: white;}#sk-container-id-2 label.sk-toggleable__label {cursor: pointer;display: block;width: 100%;margin-bottom: 0;padding: 0.3em;box-sizing: border-box;text-align: center;}#sk-container-id-2 label.sk-toggleable__label-arrow:before {content: \"▸\";float: left;margin-right: 0.25em;color: #696969;}#sk-container-id-2 label.sk-toggleable__label-arrow:hover:before {color: black;}#sk-container-id-2 div.sk-estimator:hover label.sk-toggleable__label-arrow:before {color: black;}#sk-container-id-2 div.sk-toggleable__content {max-height: 0;max-width: 0;overflow: hidden;text-align: left;background-color: #f0f8ff;}#sk-container-id-2 div.sk-toggleable__content pre {margin: 0.2em;color: black;border-radius: 0.25em;background-color: #f0f8ff;}#sk-container-id-2 input.sk-toggleable__control:checked~div.sk-toggleable__content {max-height: 200px;max-width: 100%;overflow: auto;}#sk-container-id-2 input.sk-toggleable__control:checked~label.sk-toggleable__label-arrow:before {content: \"▾\";}#sk-container-id-2 div.sk-estimator input.sk-toggleable__control:checked~label.sk-toggleable__label {background-color: #d4ebff;}#sk-container-id-2 div.sk-label input.sk-toggleable__control:checked~label.sk-toggleable__label {background-color: #d4ebff;}#sk-container-id-2 input.sk-hidden--visually {border: 0;clip: rect(1px 1px 1px 1px);clip: rect(1px, 1px, 1px, 1px);height: 1px;margin: -1px;overflow: hidden;padding: 0;position: absolute;width: 1px;}#sk-container-id-2 div.sk-estimator {font-family: monospace;background-color: #f0f8ff;border: 1px dotted black;border-radius: 0.25em;box-sizing: border-box;margin-bottom: 0.5em;}#sk-container-id-2 div.sk-estimator:hover {background-color: #d4ebff;}#sk-container-id-2 div.sk-parallel-item::after {content: \"\";width: 100%;border-bottom: 1px solid gray;flex-grow: 1;}#sk-container-id-2 div.sk-label:hover label.sk-toggleable__label {background-color: #d4ebff;}#sk-container-id-2 div.sk-serial::before {content: \"\";position: absolute;border-left: 1px solid gray;box-sizing: border-box;top: 0;bottom: 0;left: 50%;z-index: 0;}#sk-container-id-2 div.sk-serial {display: flex;flex-direction: column;align-items: center;background-color: white;padding-right: 0.2em;padding-left: 0.2em;position: relative;}#sk-container-id-2 div.sk-item {position: relative;z-index: 1;}#sk-container-id-2 div.sk-parallel {display: flex;align-items: stretch;justify-content: center;background-color: white;position: relative;}#sk-container-id-2 div.sk-item::before, #sk-container-id-2 div.sk-parallel-item::before {content: \"\";position: absolute;border-left: 1px solid gray;box-sizing: border-box;top: 0;bottom: 0;left: 50%;z-index: -1;}#sk-container-id-2 div.sk-parallel-item {display: flex;flex-direction: column;z-index: 1;position: relative;background-color: white;}#sk-container-id-2 div.sk-parallel-item:first-child::after {align-self: flex-end;width: 50%;}#sk-container-id-2 div.sk-parallel-item:last-child::after {align-self: flex-start;width: 50%;}#sk-container-id-2 div.sk-parallel-item:only-child::after {width: 0;}#sk-container-id-2 div.sk-dashed-wrapped {border: 1px dashed gray;margin: 0 0.4em 0.5em 0.4em;box-sizing: border-box;padding-bottom: 0.4em;background-color: white;}#sk-container-id-2 div.sk-label label {font-family: monospace;font-weight: bold;display: inline-block;line-height: 1.2em;}#sk-container-id-2 div.sk-label-container {text-align: center;}#sk-container-id-2 div.sk-container {/* jupyter's `normalize.less` sets `[hidden] { display: none; }` but bootstrap.min.css set `[hidden] { display: none !important; }` so we also need the `!important` here to be able to override the default hidden behavior on the sphinx rendered scikit-learn.org. See: https://github.com/scikit-learn/scikit-learn/issues/21755 */display: inline-block !important;position: relative;}#sk-container-id-2 div.sk-text-repr-fallback {display: none;}</style><div id=\"sk-container-id-2\" class=\"sk-top-container\"><div class=\"sk-text-repr-fallback\"><pre>MinMaxScaler()</pre><b>In a Jupyter environment, please rerun this cell to show the HTML representation or trust the notebook. <br />On GitHub, the HTML representation is unable to render, please try loading this page with nbviewer.org.</b></div><div class=\"sk-container\" hidden><div class=\"sk-item\"><div class=\"sk-estimator sk-toggleable\"><input class=\"sk-toggleable__control sk-hidden--visually\" id=\"sk-estimator-id-2\" type=\"checkbox\" checked><label for=\"sk-estimator-id-2\" class=\"sk-toggleable__label sk-toggleable__label-arrow\">MinMaxScaler</label><div class=\"sk-toggleable__content\"><pre>MinMaxScaler()</pre></div></div></div></div></div>"
      ],
      "text/plain": [
       "MinMaxScaler()"
      ]
     },
     "execution_count": 19,
     "metadata": {},
     "output_type": "execute_result"
    }
   ],
   "source": [
    "# -- Build a scaler\n",
    "\n",
    "# Create a numpy.ndarray of the DF's values\n",
    "data_arr = train_data_df.values.astype(float)\n",
    "\n",
    "# Get the train data array\n",
    "train_data, _, _, _ = train_test_split(data_arr, [ii for ii in range(len(data_arr))], test_size=0.2, random_state=SEED)\n",
    "\n",
    "# Build the scaler on the train data array\n",
    "scaler = MinMaxScaler()\n",
    "scaler.fit(train_data)"
   ]
  },
  {
   "cell_type": "code",
   "execution_count": 20,
   "id": "1abefdc7-7fc5-428f-96ac-e796df9833ac",
   "metadata": {},
   "outputs": [
    {
     "name": "stdout",
     "output_type": "stream",
     "text": [
      "(14514, 3948)\n",
      "(181, 3948)\n",
      "(151, 3948)\n",
      "(181, 3948)\n",
      "(151, 3948)\n",
      "(180, 3948)\n",
      "(151, 3948)\n"
     ]
    }
   ],
   "source": [
    "# -- Normalize\n",
    "\n",
    "train_data_df = normalize(scaler, train_data_df)\n",
    "for data_set_code in data_sets_to_preprocess:\n",
    "    data_set_dfs[data_set_code] = normalize(scaler, data_set_dfs[data_set_code])"
   ]
  },
  {
   "cell_type": "code",
   "execution_count": 21,
   "id": "213384d9-0922-4231-9394-2b1b114c9320",
   "metadata": {},
   "outputs": [
    {
     "name": "stdout",
     "output_type": "stream",
     "text": [
      "True\n"
     ]
    }
   ],
   "source": [
    "# -- Aggregation by the smoothing average\n",
    "# We do it (length = 3)\n",
    "\n",
    "if AGGREGATE_BY_SMOOTHING_AVERAGE:\n",
    "    print(AGGREGATE_BY_SMOOTHING_AVERAGE)\n",
    "\n",
    "    train_data_df = aggr(train_data_df, AGGREGATE_BY_SMOOTHING_AVERAGE_LENGTH)\n",
    "    for data_set_code in data_sets_to_preprocess:\n",
    "        data_set_dfs[data_set_code] = aggr(data_set_dfs[data_set_code], AGGREGATE_BY_SMOOTHING_AVERAGE_LENGTH)"
   ]
  },
  {
   "cell_type": "code",
   "execution_count": 22,
   "id": "d7a95aa1-f318-4cdd-9995-894f6d3c60d5",
   "metadata": {},
   "outputs": [
    {
     "name": "stdout",
     "output_type": "stream",
     "text": [
      "linear-cpu-stress-userapi-051516 DF saved. Data shape: (181, 3948)\n",
      "linear-cpu-stress-redis-091514 DF saved. Data shape: (151, 3948)\n",
      "linear-memory-stress-userapi-051218 DF saved. Data shape: (181, 3948)\n",
      "linear-memory-stress-redis-091522 DF saved. Data shape: (151, 3948)\n",
      "linear-network-delay-userapi-051816 DF saved. Data shape: (180, 3948)\n",
      "linear-network-delay-redis-092016 DF saved. Data shape: (151, 3948)\n"
     ]
    }
   ],
   "source": [
    "# -- Save\n",
    "\n",
    "# Create a target folder if does not exist\n",
    "create_dir(normalized_data_set_dir_path)\n",
    "\n",
    "train_data_df.to_csv(normalized_data_set_file_path.format(data_set_code=train_data_set_code), encoding='utf-8', index=False, header=True)\n",
    "for data_set_code in data_sets_to_preprocess:\n",
    "    data_set_dfs[data_set_code].to_csv(normalized_data_set_file_path.format(data_set_code=data_set_code), encoding='utf-8', index=False, header=True)\n",
    "    print(\"{data_set_code} DF saved. Data shape: {data_set_shape}\".format(data_set_code=data_set_code, data_set_shape=data_set_dfs[data_set_code].shape))"
   ]
  }
 ],
 "metadata": {
  "kernelspec": {
   "display_name": "Kernet",
   "language": "python",
   "name": "kernet"
  },
  "language_info": {
   "codemirror_mode": {
    "name": "ipython",
    "version": 3
   },
   "file_extension": ".py",
   "mimetype": "text/x-python",
   "name": "python",
   "nbconvert_exporter": "python",
   "pygments_lexer": "ipython3",
   "version": "3.9.7"
  }
 },
 "nbformat": 4,
 "nbformat_minor": 5
}
