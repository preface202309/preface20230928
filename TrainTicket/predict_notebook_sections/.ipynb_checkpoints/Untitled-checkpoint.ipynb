{
 "cells": [
  {
   "cell_type": "code",
   "execution_count": 1,
   "id": "54c627eb-96ec-4674-a224-3006b1db92dd",
   "metadata": {},
   "outputs": [
    {
     "name": "stdout",
     "output_type": "stream",
     "text": [
      "['learner', 'scorm', 'userhandlers', 'redis-master', 'redis', 'alms-core-learner', 'alms-core-scorm', 'alms-core-userhandlers', 'alms-core-redis-master', 'alms-core-redis']\n"
     ]
    }
   ],
   "source": [
    "service_list=\"author,react,fileapi,gradeservice,identity,identityapi,learner,web,rui,scorm,fe,scormhandlers,ui,userapi,userhandlers,ztool,redis-master,redis\"\n",
    "\n",
    "app_service_list = service_list.split(\",\")\n",
    "app_service_list = app_service_list + [\"alms-core-\" + service for service in app_service_list]\n",
    "\n",
    "print(related_services)"
   ]
  },
  {
   "cell_type": "code",
   "execution_count": null,
   "id": "6b6372a2-d3f1-41f3-a59c-2f1614e84450",
   "metadata": {},
   "outputs": [],
   "source": []
  }
 ],
 "metadata": {
  "kernelspec": {
   "display_name": "Kernet",
   "language": "python",
   "name": "kernet"
  },
  "language_info": {
   "codemirror_mode": {
    "name": "ipython",
    "version": 3
   },
   "file_extension": ".py",
   "mimetype": "text/x-python",
   "name": "python",
   "nbconvert_exporter": "python",
   "pygments_lexer": "ipython3",
   "version": "3.9.7"
  }
 },
 "nbformat": 4,
 "nbformat_minor": 5
}
