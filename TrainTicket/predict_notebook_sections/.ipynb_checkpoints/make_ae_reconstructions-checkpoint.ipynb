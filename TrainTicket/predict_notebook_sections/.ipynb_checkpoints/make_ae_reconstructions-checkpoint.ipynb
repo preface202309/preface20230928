{
 "cells": [
  {
   "cell_type": "code",
   "execution_count": null,
   "id": "366e67b5-8ae5-4409-ae44-80d141371d02",
   "metadata": {},
   "outputs": [],
   "source": [
    "# -- Make AE Reconstructions\n",
    "\n",
    "# Create a list of numpy.ndarrays of the test DFs values\n",
    "test_data_arrays = []\n",
    "for df in prod_dfs.values():\n",
    "    # Create a numpy.ndarray of the DF values\n",
    "    test_data = df.values\n",
    "    test_data = test_data.astype(float)\n",
    "    test_data_arrays.append(test_data)\n",
    "\n",
    "# Get the KPIs'reconstructions of each point (output: list of lists of the reconstructed metrics)\n",
    "test_reconstructions = []\n",
    "for test_data in test_data_arrays:\n",
    "    reconstr = autoencoder.predict(test_data)\n",
    "    print(reconstr)\n",
    "    test_reconstructions.append(reconstr)"
   ]
  }
 ],
 "metadata": {
  "kernelspec": {
   "display_name": "Kernet",
   "language": "python",
   "name": "kernet"
  },
  "language_info": {
   "codemirror_mode": {
    "name": "ipython",
    "version": 3
   },
   "file_extension": ".py",
   "mimetype": "text/x-python",
   "name": "python",
   "nbconvert_exporter": "python",
   "pygments_lexer": "ipython3",
   "version": "3.9.7"
  }
 },
 "nbformat": 4,
 "nbformat_minor": 5
}
