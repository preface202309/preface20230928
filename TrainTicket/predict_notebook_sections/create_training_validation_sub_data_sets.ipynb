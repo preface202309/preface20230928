{
 "cells": [
  {
   "cell_type": "code",
   "execution_count": null,
   "id": "b29a4d0a-585e-4b7b-935d-afdab65fff47",
   "metadata": {},
   "outputs": [],
   "source": [
    "# -- Create the training and validation sub-data sets (arrays and DFs)\n",
    "\n",
    "# Create a numpy.ndarray of the frame's values\n",
    "train_data_all = train_df_all.values.astype(float)\n",
    "\n",
    "# Create labels\n",
    "train_labels_all = np.asarray([0 for ii in range(len(train_data_all))]).astype(bool)\n",
    "\n",
    "# Create Train/Validation Data/Labels arrays\n",
    "train_data, val_data, train_labels, val_labels = train_test_split(train_data_all, train_labels_all, test_size=0.2, random_state=SEED)"
   ]
  }
 ],
 "metadata": {
  "kernelspec": {
   "display_name": "Kernet",
   "language": "python",
   "name": "kernet"
  },
  "language_info": {
   "codemirror_mode": {
    "name": "ipython",
    "version": 3
   },
   "file_extension": ".py",
   "mimetype": "text/x-python",
   "name": "python",
   "nbconvert_exporter": "python",
   "pygments_lexer": "ipython3",
   "version": "3.9.7"
  }
 },
 "nbformat": 4,
 "nbformat_minor": 5
}
