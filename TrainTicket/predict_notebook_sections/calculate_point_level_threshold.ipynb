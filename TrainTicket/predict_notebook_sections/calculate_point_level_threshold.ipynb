{
 "cells": [
  {
   "cell_type": "code",
   "execution_count": null,
   "id": "8bcb7421-436e-42c9-bced-6d313a618159",
   "metadata": {},
   "outputs": [],
   "source": [
    "# -- Calculate the Point-level Reconstruction Error Threshold\n",
    "\n",
    "# Calculate a Reconstruction Error on Training Data for each point (output: list of MSE's for each point)\n",
    "# loss = tf.keras.losses.mean_absolute_percentage_error(reconstructions, train_data)\n",
    "# loss = tf.keras.losses.kl_divergence(reconstructions, train_data)\n",
    "loss = tf.keras.losses.mse(reconstructions, train_data)\n",
    "\n",
    "loss = loss[loss <= np.percentile(loss, 99)]\n",
    "\n",
    "# Plot the distribution of reconstruction errors on the training data (Training loss)\n",
    "plot_loss_distribution(loss, \"Train Loss - Distribution of Reconstruction Errors on Training Dataset\")\n",
    "\n",
    "# Calculate the Point-level Anomaly Threshold (the deviation threshold of the Point's MSE) basing on the Training Loss\n",
    "point_level_mean, point_level_stdev, threshold_up, threshold_down  = get_threshold(loss, SIGMA_POINT_LEVEL, PERCENTILE_POINT_LEVEL, True)\n",
    "# point_level_mean, point_level_stdev, threshold_up, threshold_down  = get_threshold_by_percentiles(loss, True)"
   ]
  }
 ],
 "metadata": {
  "kernelspec": {
   "display_name": "Kernet",
   "language": "python",
   "name": "kernet"
  },
  "language_info": {
   "codemirror_mode": {
    "name": "ipython",
    "version": 3
   },
   "file_extension": ".py",
   "mimetype": "text/x-python",
   "name": "python",
   "nbconvert_exporter": "python",
   "pygments_lexer": "ipython3",
   "version": "3.9.7"
  }
 },
 "nbformat": 4,
 "nbformat_minor": 5
}
